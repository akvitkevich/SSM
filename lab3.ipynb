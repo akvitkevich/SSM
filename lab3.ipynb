{
 "cells": [
  {
   "cell_type": "markdown",
   "metadata": {},
   "source": [
    "# Лабораторная работа 3\n",
    "# 10 группа ММАД, 5 вариант\n",
    "# Квиткевич Александр"
   ]
  },
  {
   "cell_type": "markdown",
   "metadata": {},
   "source": [
    "# Моделирование непрерывных распределений."
   ]
  },
  {
   "cell_type": "code",
   "execution_count": 1,
   "metadata": {},
   "outputs": [],
   "source": [
    "import numpy as np\n",
    "import seaborn as sns\n",
    "\n",
    "\n",
    "from utils.distributions import (\n",
    "    generate_samples,\n",
    "    exponential_cdf,\n",
    "    exponential_sample,\n",
    "    logistic_cdf,\n",
    "    logistic_sample,\n",
    "    normal_cdf,\n",
    "    normal_sample,\n",
    ")\n",
    "from utils.tests import (\n",
    "    chi2_continious,\n",
    "    ks_test,\n",
    ")\n",
    "\n",
    "n = 1000\n",
    "alpha = 0.05\n"
   ]
  },
  {
   "cell_type": "markdown",
   "metadata": {},
   "source": [
    "# Нормальное, N(-4, 4)\n",
    "## Метод суммирования при N=12"
   ]
  },
  {
   "cell_type": "code",
   "execution_count": 2,
   "metadata": {},
   "outputs": [
    {
     "name": "stdout",
     "output_type": "stream",
     "text": [
      "Теоретическое мат. ожидание: -4\n",
      "Несмещенная оценка матожидания: -4.0949222715090166\n",
      "\n",
      "Теоретическая дисперсия: 4\n",
      "Несмещенная оценка дисперсии: 3.74556514716765\n",
      "--------------------------------------------------------------------------------\n",
      "Chi2 test. Null hypothesis: no difference in expected and observed. Significance_level: 0.95\n",
      "Can't reject null hypothesis, 10.880234717956634 < 16.918977604620448.\n",
      "\n",
      "KS test. Null hypothesis: no difference between samples and specified cdf. Significance_level: 0.95\n",
      "Can't reject null hypothesis, 1.1696457007832735 < 1.3580986393225505.\n"
     ]
    },
    {
     "data": {
      "text/plain": [
       "<AxesSubplot:>"
      ]
     },
     "execution_count": 2,
     "metadata": {},
     "output_type": "execute_result"
    },
    {
     "data": {
      "image/png": "[encoded data removed]",
      "text/plain": [
       "<Figure size 432x288 with 1 Axes>"
      ]
     },
     "metadata": {
      "needs_background": "light"
     },
     "output_type": "display_data"
    }
   ],
   "source": [
    "N = 12\n",
    "\n",
    "m = -4\n",
    "s2 = 4\n",
    "s = s2 ** 0.5\n",
    "\n",
    "\n",
    "normal = generate_samples(normal_sample, loc=m, scale=s)\n",
    "\n",
    "print(\"Теоретическое мат. ожидание:\", m)\n",
    "print(\"Несмещенная оценка матожидания:\", normal.mean())\n",
    "print()\n",
    "print(\"Теоретическая дисперсия:\", s2)\n",
    "print(\"Несмещенная оценка дисперсии:\", normal.var())\n",
    "print(\"-\" * 80)\n",
    "chi2_continious(normal, normal_cdf, loc=m, scale=s)\n",
    "print()\n",
    "ks_test(normal, normal_cdf, loc=m, scale=s)\n",
    "\n",
    "sns.distplot(normal)"
   ]
  },
  {
   "cell_type": "markdown",
   "metadata": {},
   "source": [
    "# Экспоненциальное, Exp(0.5)"
   ]
  },
  {
   "cell_type": "code",
   "execution_count": 3,
   "metadata": {},
   "outputs": [
    {
     "name": "stdout",
     "output_type": "stream",
     "text": [
      "Теоретическое мат. ожидание: 2.0\n",
      "Несмещенная оценка матожидания: 1.9803701991584042\n",
      "\n",
      "Теоретическая дисперсия: 4.0\n",
      "Несмещенная оценка дисперсии: 3.598351038517442\n",
      "--------------------------------------------------------------------------------\n",
      "Chi2 test. Null hypothesis: no difference in expected and observed. Significance_level: 0.95\n",
      "Can't reject null hypothesis, 3.4200695594229775 < 16.918977604620448.\n",
      "\n",
      "KS test. Null hypothesis: no difference between samples and specified cdf. Significance_level: 0.95\n",
      "Can't reject null hypothesis, 0.5703351586891489 < 1.3580986393225505.\n"
     ]
    },
    {
     "data": {
      "text/plain": [
       "<AxesSubplot:>"
      ]
     },
     "execution_count": 3,
     "metadata": {},
     "output_type": "execute_result"
    },
    {
     "data": {
      "image/png": "[encoded data removed]",
      "text/plain": [
       "<Figure size 432x288 with 1 Axes>"
      ]
     },
     "metadata": {
      "needs_background": "light"
     },
     "output_type": "display_data"
    }
   ],
   "source": [
    "a = 0.5\n",
    "exponential = generate_samples(exponential_sample, a=a)\n",
    "\n",
    "print(\"Теоретическое мат. ожидание:\", 1 / a)\n",
    "print(\"Несмещенная оценка матожидания:\", exponential.mean())\n",
    "print()\n",
    "print(\"Теоретическая дисперсия:\", 1 / a ** 2)\n",
    "print(\"Несмещенная оценка дисперсии:\", exponential.var())\n",
    "print(\"-\" * 80)\n",
    "chi2_continious(exponential, exponential_cdf, a=a)\n",
    "print()\n",
    "ks_test(exponential, exponential_cdf, a=a)\n",
    "sns.distplot(exponential)"
   ]
  },
  {
   "cell_type": "markdown",
   "metadata": {},
   "source": [
    "# Логистическое, LG(0, 1.5)"
   ]
  },
  {
   "cell_type": "code",
   "execution_count": 4,
   "metadata": {},
   "outputs": [
    {
     "name": "stdout",
     "output_type": "stream",
     "text": [
      "Теоретическое мат. ожидание: 0\n",
      "Несмещенная оценка матожидания: -0.027666456504651143\n",
      "\n",
      "Теоретическая дисперсия: 7.4022033008170185\n",
      "Несмещенная оценка дисперсии: 7.810648643021047\n",
      "--------------------------------------------------------------------------------\n",
      "Chi2 test. Null hypothesis: no difference in expected and observed. Significance_level: 0.95\n",
      "Can't reject null hypothesis, 11.672668889842528 < 16.918977604620448.\n",
      "\n",
      "KS test. Null hypothesis: no difference between samples and specified cdf. Significance_level: 0.95\n",
      "Can't reject null hypothesis, 0.8268784045365991 < 1.3580986393225505.\n"
     ]
    },
    {
     "data": {
      "text/plain": [
       "<AxesSubplot:>"
      ]
     },
     "execution_count": 4,
     "metadata": {},
     "output_type": "execute_result"
    },
    {
     "data": {
      "image/png": "[encoded data removed]",
      "text/plain": [
       "<Figure size 432x288 with 1 Axes>"
      ]
     },
     "metadata": {
      "needs_background": "light"
     },
     "output_type": "display_data"
    }
   ],
   "source": [
    "mu = 0\n",
    "k = 1.5\n",
    "\n",
    "logistic = generate_samples(logistic_sample, loc=mu, scale=k)\n",
    "\n",
    "print(\"Теоретическое мат. ожидание:\", mu)\n",
    "print(\"Несмещенная оценка матожидания:\", logistic.mean())\n",
    "print()\n",
    "print(\"Теоретическая дисперсия:\", np.pi ** 2 * k ** 2 / 3)\n",
    "print(\"Несмещенная оценка дисперсии:\", logistic.var())\n",
    "print(\"-\" * 80)\n",
    "chi2_continious(logistic, logistic_cdf, loc=mu, scale=k)\n",
    "print()\n",
    "ks_test(logistic, logistic_cdf, loc=mu, scale=k)\n",
    "\n",
    "sns.distplot(logistic)"
   ]
  },
  {
   "cell_type": "code",
   "execution_count": null,
   "metadata": {},
   "outputs": [],
   "source": []
  }
 ],
 "metadata": {
  "interpreter": {
   "hash": "24af1077f0709010ab7bbe175472e25f191e036b3eb4375160ad7336622f4fea"
  },
  "kernelspec": {
   "display_name": "DataScience",
   "language": "python",
   "name": "python3"
  },
  "language_info": {
   "codemirror_mode": {
    "name": "ipython",
    "version": 3
   },
   "file_extension": ".py",
   "mimetype": "text/x-python",
   "name": "python",
   "nbconvert_exporter": "python",
   "pygments_lexer": "ipython3",
   "version": "3.8.5"
  }
 },
 "nbformat": 4,
 "nbformat_minor": 4
}
