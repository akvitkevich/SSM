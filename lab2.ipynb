{
 "cells": [
  {
   "cell_type": "markdown",
   "metadata": {},
   "source": [
    "# Лабораторная работа 2\n",
    "# 10 группа ММАД, 5 вариант\n",
    "# Квиткевич Александр"
   ]
  },
  {
   "cell_type": "markdown",
   "metadata": {},
   "source": [
    "# Моделирование дискретных распределений."
   ]
  },
  {
   "cell_type": "code",
   "execution_count": 1,
   "metadata": {},
   "outputs": [],
   "source": [
    "import numpy as np\n",
    "import seaborn as sns\n",
    "\n",
    "from utils.distributions import (\n",
    "    binomial_pmf,\n",
    "    binomial_sample,\n",
    "    generate_samples,\n",
    "    negative_binomial_pmf,\n",
    "    negative_binomial_sample,\n",
    ")\n",
    "from utils.tests import chi2_discrete\n",
    "\n",
    "\n",
    "n = 1000\n",
    "alpha = 0.05"
   ]
  },
  {
   "cell_type": "markdown",
   "metadata": {},
   "source": [
    "# Биномиальное B(6, 1/3)"
   ]
  },
  {
   "cell_type": "code",
   "execution_count": 2,
   "metadata": {},
   "outputs": [
    {
     "name": "stdout",
     "output_type": "stream",
     "text": [
      "Теоретическое мат. ожидание: 2.0\n",
      "Несмещенная оценка матожидания: 2.016\n",
      "\n",
      "Теоретическая дисперсия: 1.3333333333333335\n",
      "Несмещенная оценка дисперсии: 1.2710150150150152\n",
      "--------------------------------------------------------------------------------\n",
      "Chi2 test. Null hypothesis: no difference in expected and observed. Significance_level: 0.95\n",
      "Can't reject null hypothesis, 7.268412500000013 < 12.591587243743977.\n"
     ]
    },
    {
     "data": {
      "text/plain": [
       "<AxesSubplot:>"
      ]
     },
     "execution_count": 2,
     "metadata": {},
     "output_type": "execute_result"
    },
    {
     "data": {
      "image/png": "[encoded data removed]",
      "text/plain": [
       "<Figure size 432x288 with 1 Axes>"
      ]
     },
     "metadata": {
      "needs_background": "light"
     },
     "output_type": "display_data"
    }
   ],
   "source": [
    "m = 6\n",
    "p1 = 1 / 3\n",
    "\n",
    "a = generate_samples(binomial_sample, m=m, p=p1)\n",
    "\n",
    "binomial_theoretical_ev = m * p1\n",
    "binomial_theoretical_var = m * p1 * (1 - p1)\n",
    "\n",
    "print(\"Теоретическое мат. ожидание:\", binomial_theoretical_ev)\n",
    "print(\"Несмещенная оценка матожидания:\", a.mean())\n",
    "print()\n",
    "print(\"Теоретическая дисперсия:\", binomial_theoretical_var)\n",
    "print(\"Несмещенная оценка дисперсии:\", np.sum((a - a.mean()) ** 2) / (n - 1))\n",
    "print(\"-\" * 80)\n",
    "chi2_discrete(a, binomial_pmf, m=m, p=p1)\n",
    "\n",
    "sns.distplot(a, kde=False, bins=100)"
   ]
  },
  {
   "cell_type": "markdown",
   "metadata": {},
   "source": [
    "# Отрицательное биномиальное NB(4, 0.2)"
   ]
  },
  {
   "cell_type": "code",
   "execution_count": 3,
   "metadata": {},
   "outputs": [
    {
     "name": "stdout",
     "output_type": "stream",
     "text": [
      "Теоретическое мат. ожидание: 16.0\n",
      "Несмещенная оценка матожидания: 16.457\n",
      "\n",
      "Теоретическая дисперсия: 79.99999999999999\n",
      "Несмещенная оценка дисперcии: 81.36952052052052\n",
      "--------------------------------------------------------------------------------\n",
      "Chi2 test. Null hypothesis: no difference in expected and observed. Significance_level: 0.95\n",
      "Can't reject null hypothesis, 56.46816967339247 < 67.5048065495412.\n"
     ]
    },
    {
     "data": {
      "text/plain": [
       "<AxesSubplot:>"
      ]
     },
     "execution_count": 3,
     "metadata": {},
     "output_type": "execute_result"
    },
    {
     "data": {
      "image/png": "[encoded data removed]",
      "text/plain": [
       "<Figure size 432x288 with 1 Axes>"
      ]
     },
     "metadata": {
      "needs_background": "light"
     },
     "output_type": "display_data"
    }
   ],
   "source": [
    "r = 4\n",
    "p2 = 0.2\n",
    "\n",
    "b = generate_samples(negative_binomial_sample, r=r, p=p2)\n",
    "\n",
    "neg_binomial_theoretical_ev = r * (1 - p2) / p2\n",
    "neg_binomial_theoretical_var = r * (1 - p2) / p2 ** 2\n",
    "\n",
    "print(\"Теоретическое мат. ожидание:\", neg_binomial_theoretical_ev)\n",
    "print(\"Несмещенная оценка матожидания:\", b.mean())\n",
    "print()\n",
    "print(\"Теоретическая дисперсия:\", neg_binomial_theoretical_var)\n",
    "print(\"Несмещенная оценка дисперcии:\", np.sum((b - b.mean()) ** 2) / (n - 1))\n",
    "print(\"-\" * 80)\n",
    "chi2_discrete(b, negative_binomial_pmf, r=r, p=p2)\n",
    "\n",
    "sns.distplot(b, kde=False, bins=100)"
   ]
  },
  {
   "cell_type": "code",
   "execution_count": null,
   "metadata": {},
   "outputs": [],
   "source": []
  }
 ],
 "metadata": {
  "interpreter": {
   "hash": "24af1077f0709010ab7bbe175472e25f191e036b3eb4375160ad7336622f4fea"
  },
  "kernelspec": {
   "display_name": "DataScience",
   "language": "python",
   "name": "python3"
  },
  "language_info": {
   "codemirror_mode": {
    "name": "ipython",
    "version": 3
   },
   "file_extension": ".py",
   "mimetype": "text/x-python",
   "name": "python",
   "nbconvert_exporter": "python",
   "pygments_lexer": "ipython3",
   "version": "3.8.5"
  }
 },
 "nbformat": 4,
 "nbformat_minor": 4
}
