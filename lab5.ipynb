{
 "cells": [
  {
   "cell_type": "markdown",
   "metadata": {},
   "source": [
    "# Лабораторная работа 5\n",
    "# 10 группа ММАД, 5 вариант\n",
    "# Квиткевич Александр"
   ]
  },
  {
   "cell_type": "markdown",
   "metadata": {},
   "source": [
    "# Методом Монте-Карло найти решение СЛАУ:\n",
    "\n",
    "\\begin{equation}\n",
    "B * x = g\n",
    "\\end{equation}\n",
    "\n",
    "\\begin{equation}\n",
    "B = \\begin{bmatrix}\n",
    "0.8 & 0.2 & 0.3\\\\\n",
    "-0.2 & 0.5 & -0.3\\\\\n",
    "0.4 & 0.2 & 1.3\n",
    "\\end{bmatrix}, \n",
    "g = \\begin{bmatrix}\n",
    "3\\\\\n",
    "-1\\\\\n",
    "-1\n",
    "\\end{bmatrix}\n",
    "\\end{equation}\n",
    "\n",
    "\\begin{equation}\n",
    "Solution: \\tilde{x} = \\begin{bmatrix}\n",
    "4.84732824\\\\\n",
    "-1.29770992\\\\\n",
    "-2.0610687\n",
    "\\end{bmatrix}\n",
    "\\end{equation}"
   ]
  },
  {
   "cell_type": "code",
   "execution_count": 1,
   "metadata": {},
   "outputs": [
    {
     "name": "stdout",
     "output_type": "stream",
     "text": [
      "Матрица B:\n",
      "[[ 0.8  0.2  0.3]\n",
      " [-0.2  0.5 -0.3]\n",
      " [ 0.4  0.2  1.3]]\n",
      "\n",
      "Вектор g:\n",
      "[ 3 -1 -1]\n",
      "\n",
      "Аналитическое решение:\n",
      "[ 4.84732824 -1.29770992 -2.0610687 ]\n"
     ]
    }
   ],
   "source": [
    "import numpy as np\n",
    "from scipy.linalg import eigvals, norm, solve\n",
    "from tqdm import trange  # for interactive progress checking\n",
    "\n",
    "\n",
    "np.random.seed(42)\n",
    "B = np.array([[0.8, 0.2, 0.3], [-0.2, 0.5, -0.3], [0.4, 0.2, 1.3]])\n",
    "g = np.array([3, -1, -1])\n",
    "\n",
    "analytical_ans = solve(B, g)\n",
    "print(\"Матрица B:\")\n",
    "print(B)\n",
    "print(\"\\nВектор g:\")\n",
    "print(g)\n",
    "print(\"\\nАналитическое решение:\")\n",
    "print(analytical_ans)"
   ]
  },
  {
   "cell_type": "markdown",
   "metadata": {},
   "source": [
    "# Преобразуем систему к необходимому для итераций виду\n",
    "\\begin{equation}\n",
    "x = A * x + f\n",
    "\\end{equation}\n",
    "\n",
    "\\begin{equation}\n",
    "A = \\begin{bmatrix}\n",
    "0.2 & -0.2 & -0.3\\\\\n",
    "0.4 & 0 & 0.6\\\\\n",
    "-0.4 & -0.2 & -0.3\n",
    "\\end{bmatrix}, \n",
    "f = \\begin{bmatrix}\n",
    "3\\\\\n",
    "-2\\\\\n",
    "-1\n",
    "\\end{bmatrix}\n",
    "\\end{equation}"
   ]
  },
  {
   "cell_type": "code",
   "execution_count": 2,
   "metadata": {},
   "outputs": [
    {
     "name": "stdout",
     "output_type": "stream",
     "text": [
      "Матрица A:\n",
      "[[ 0.2 -0.2 -0.3]\n",
      " [ 0.4  0.   0.6]\n",
      " [-0.4 -0.2 -0.3]]\n",
      "\n",
      "Вектор f:\n",
      "[ 3 -2 -1]\n"
     ]
    }
   ],
   "source": [
    "A = np.array([[0.2, -0.2, -0.3], [0.4, 0, 0.6], [-0.4, -0.2, -0.3]])\n",
    "f = np.array([3, -2, -1])\n",
    "print(\"Матрица A:\")\n",
    "print(A)\n",
    "print(\"\\nВектор f:\")\n",
    "print(f)"
   ]
  },
  {
   "cell_type": "code",
   "execution_count": 3,
   "metadata": {},
   "outputs": [
    {
     "name": "stdout",
     "output_type": "stream",
     "text": [
      "Собственное значение матрицы A: (0.37+0j), его модуль: 0.37\n",
      "Собственное значение матрицы A: (-0.24+0.37j), его модуль: 0.44\n",
      "Собственное значение матрицы A: (-0.24-0.37j), его модуль: 0.44\n",
      "\n",
      "Все собственные значения меньше 1 по модулю, матрица B  удовлетворяет условиям метода Монте-Карло\n"
     ]
    }
   ],
   "source": [
    "for eigval in eigvals(A):\n",
    "    eigval_modulo = abs(eigval)\n",
    "    assert eigval_modulo < 1, \"Собственное значение больше 1 по модулю!\"\n",
    "    print(\n",
    "        f\"Собственное значение матрицы A: {np.round(eigval, 2)}, его модуль: {np.round(abs(eigval), 2)}\"\n",
    "    )\n",
    "print(\n",
    "    \"\\nВсе собственные значения меньше 1 по модулю, матрица B  удовлетворяет условиям метода Монте-Карло\"\n",
    ")"
   ]
  },
  {
   "cell_type": "code",
   "execution_count": 4,
   "metadata": {},
   "outputs": [
    {
     "name": "stdout",
     "output_type": "stream",
     "text": [
      "Матрица для вычислений x,y,z:\n",
      "[[1. 0. 0.]\n",
      " [0. 1. 0.]\n",
      " [0. 0. 1.]]\n",
      "\n",
      "Вектор вероятностей начальных состояний цепи Маркова:\n",
      "[0.33333333 0.33333333 0.33333333]\n",
      "\n",
      "Матрица переходов:\n",
      "[[0.33333333 0.33333333 0.33333333]\n",
      " [0.33333333 0.33333333 0.33333333]\n",
      " [0.33333333 0.33333333 0.33333333]]\n"
     ]
    }
   ],
   "source": [
    "n = 3  # размерность системы\n",
    "N = 300  # длина цепи Маркова\n",
    "m = n * 30000  # количество реализаций цепи Маркова\n",
    "\n",
    "h = np.eye(n)\n",
    "pi = np.ones_like(f) * (1.0 / n)\n",
    "P = np.array(np.ones_like(A)) * (1 / n)\n",
    "\n",
    "print(\"Матрица для вычислений x,y,z:\")\n",
    "print(h)\n",
    "print(\"\\nВектор вероятностей начальных состояний цепи Маркова:\")\n",
    "print(pi)\n",
    "print(\"\\nМатрица переходов:\")\n",
    "print(P)"
   ]
  },
  {
   "cell_type": "code",
   "execution_count": 5,
   "metadata": {},
   "outputs": [
    {
     "name": "stderr",
     "output_type": "stream",
     "text": [
      "100%|██████████| 90000/90000 [01:10<00:00, 1269.09it/s]\n"
     ]
    },
    {
     "name": "stdout",
     "output_type": "stream",
     "text": [
      "Решение по методу Монте-Карло: [ 4.88586846 -1.2110391  -2.10115043]\n",
      "Норма разности аналитического и численного решения, полученного по методу Монте-Карло: 0.1\n",
      "Ошибка ММК-решения: [ 0.03614182  0.04765189 -0.019356  ]\n"
     ]
    }
   ],
   "source": [
    "ksi = np.zeros((m, n), dtype=float)\n",
    "idxs = np.array(np.random.rand(m, N) // (1 / n), dtype=int)\n",
    "Q = np.zeros((m, N, n), dtype=float)\n",
    "\n",
    "for j in trange(m):\n",
    "\n",
    "    idx = idxs[j][\n",
    "        0\n",
    "    ]  # idx shows which of x, y, z we will modify (start of each Markov chain)\n",
    "    Q[j][0][idx] = 0 if not pi[idx] else h[idx, idx] / pi[idx]\n",
    "    for k in range(1, N):\n",
    "        idx_prev = idxs[j][k - 1]  # idx_prev is previous state of Markov chain\n",
    "        idx_new = idxs[j][k]  # idx_new is new state of Markov chain\n",
    "        Q[j][k][idx] = (\n",
    "            0\n",
    "            if not P[idx_prev][idx_new]\n",
    "            else Q[j][k - 1][idx] * A[idx_prev][idx_new] / P[idx_prev][idx_new]\n",
    "        )\n",
    "\n",
    "    ksi[j] = np.dot(f[idxs[j]], Q[j])\n",
    "\n",
    "monte_carlo_ans = ksi.mean(axis=0)\n",
    "print(\"Решение по методу Монте-Карло:\", monte_carlo_ans)\n",
    "\n",
    "diff_norm = norm(analytical_ans - monte_carlo_ans)\n",
    "print(\n",
    "    \"Норма разности аналитического и численного решения, полученного по методу Монте-Карло:\",\n",
    "    round(diff_norm, 2),\n",
    ")\n",
    "\n",
    "error = np.dot(B, monte_carlo_ans) - g\n",
    "print(\"Ошибка ММК-решения:\", error)"
   ]
  },
  {
   "cell_type": "code",
   "execution_count": null,
   "metadata": {},
   "outputs": [],
   "source": []
  }
 ],
 "metadata": {
  "kernelspec": {
   "display_name": "DataScience",
   "language": "python",
   "name": "datascience"
  },
  "language_info": {
   "codemirror_mode": {
    "name": "ipython",
    "version": 3
   },
   "file_extension": ".py",
   "mimetype": "text/x-python",
   "name": "python",
   "nbconvert_exporter": "python",
   "pygments_lexer": "ipython3",
   "version": "3.8.5"
  }
 },
 "nbformat": 4,
 "nbformat_minor": 4
}
